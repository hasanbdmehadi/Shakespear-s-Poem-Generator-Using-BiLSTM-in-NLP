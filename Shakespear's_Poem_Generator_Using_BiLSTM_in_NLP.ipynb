{
  "cells": [
    {
      "cell_type": "markdown",
      "metadata": {
        "id": "_oVDQQstAhV7"
      },
      "source": [
        "# **Shakespear's Poem Generator Using BiLSTM in NLP**"
      ]
    },
    {
      "cell_type": "code",
      "execution_count": null,
      "metadata": {
        "id": "AKYTBxMYAgCW"
      },
      "outputs": [],
      "source": [
        "import numpy as np\n",
        "import matplotlib.pyplot as plt\n",
        "from keras.models import Sequential\n",
        "from keras.utils import to_categorical\n",
        "from keras.preprocessing.text import Tokenizer\n",
        "from keras.preprocessing.sequence import pad_sequences\n",
        "from keras.layers import Embedding, LSTM, Dense, Bidirectional"
      ]
    },
    {
      "cell_type": "code",
      "execution_count": null,
      "metadata": {
        "colab": {
          "base_uri": "https://localhost:8080/"
        },
        "id": "s2mcY5DZCumb",
        "outputId": "6f2a9bfd-1e05-48cd-d7cb-3053f863eb31"
      },
      "outputs": [
        {
          "name": "stdout",
          "output_type": "stream",
          "text": [
            "/usr/local/lib/python3.10/dist-packages/gdown/cli.py:121: FutureWarning: Option `--id` was deprecated in version 4.3.1 and will be removed in 5.0. You don't need to pass it anymore to use a file ID.\n",
            "  warnings.warn(\n",
            "Downloading...\n",
            "From: https://drive.google.com/uc?id=108jAePKK4R3BVYBbYJZ32JWUwxeMg20K\n",
            "To: /content/sonnets.txt\n",
            "100% 93.6k/93.6k [00:00<00:00, 85.6MB/s]\n"
          ]
        }
      ],
      "source": [
        "# sonnets.txt\n",
        "!gdown --id 108jAePKK4R3BVYBbYJZ32JWUwxeMg20K"
      ]
    },
    {
      "cell_type": "code",
      "execution_count": null,
      "metadata": {
        "colab": {
          "base_uri": "https://localhost:8080/"
        },
        "id": "oktVLA-CCiG_",
        "outputId": "578ce879-9504-4404-fcc5-d1f941b23fa9"
      },
      "outputs": [
        {
          "name": "stdout",
          "output_type": "stream",
          "text": [
            "There are 2159 lines of sonnets\n",
            "\n",
            "The first 5 lines look like this:\n",
            "\n",
            "from fairest creatures we desire increase,\n",
            "that thereby beauty's rose might never die,\n",
            "but as the riper should by time decease,\n",
            "his tender heir might bear his memory:\n",
            "but thou, contracted to thine own bright eyes,\n"
          ]
        }
      ],
      "source": [
        "# Define path for file with sonnets\n",
        "SONNETS_FILE = './sonnets.txt'\n",
        "\n",
        "# Read the data\n",
        "with open('./sonnets.txt') as f:\n",
        "    data = f.read()\n",
        "\n",
        "# Convert to lower case and save as a list\n",
        "corpus = data.lower().split(\"\\n\")\n",
        "\n",
        "print(f\"There are {len(corpus)} lines of sonnets\\n\")\n",
        "print(f\"The first 5 lines look like this:\\n\")\n",
        "for i in range(5):\n",
        "  print(corpus[i])"
      ]
    },
    {
      "cell_type": "markdown",
      "metadata": {
        "id": "98AQi1H7C587"
      },
      "source": [
        "# Tokenizing the text\n",
        "\n",
        "Now fit the Tokenizer to the corpus and save the total number of words."
      ]
    },
    {
      "cell_type": "code",
      "execution_count": null,
      "metadata": {
        "id": "Uxr3SJXMC9oA"
      },
      "outputs": [],
      "source": [
        "tokenizer = Tokenizer()\n",
        "tokenizer.fit_on_texts(corpus)\n",
        "total_words = len(tokenizer.word_index) + 1"
      ]
    },
    {
      "cell_type": "code",
      "execution_count": null,
      "metadata": {
        "colab": {
          "base_uri": "https://localhost:8080/"
        },
        "id": "1SALf4HZDS4o",
        "outputId": "4ce383f9-a731-42f6-ca6d-922827e346ac"
      },
      "outputs": [
        {
          "data": {
            "text/plain": [
              "[34, 417, 877, 166, 213, 517]"
            ]
          },
          "execution_count": 7,
          "metadata": {},
          "output_type": "execute_result"
        }
      ],
      "source": [
        "tokenizer.texts_to_sequences([corpus[0]])[0]"
      ]
    },
    {
      "cell_type": "markdown",
      "metadata": {
        "id": "_amzx8brDap5"
      },
      "source": [
        "# Generating n_grams"
      ]
    },
    {
      "cell_type": "code",
      "execution_count": null,
      "metadata": {
        "id": "e7HhgVKoDcut"
      },
      "outputs": [],
      "source": [
        "# GRADED FUNCTION: n_gram_seqs\n",
        "def n_gram_seqs(corpus, tokenizer):\n",
        "\tinput_sequences = []\n",
        "\n",
        "\t### START CODE HERE\n",
        "\n",
        "\tfor line in corpus:\n",
        "\t\ttoken_list = tokenizer.texts_to_sequences([line])[0]\n",
        "\n",
        "\t\tfor i in range(1, len(token_list)):\n",
        "\t\t\t# Generate subphrase\n",
        "\t\t\tn_gram_sequence = token_list[:i+1]\n",
        "\t\t\t# Append subphrase to input_sequences list\n",
        "\t\t\tinput_sequences.append(n_gram_sequence)\n",
        "\n",
        "\t### END CODE HERE\n",
        "\n",
        "\treturn input_sequences"
      ]
    },
    {
      "cell_type": "code",
      "execution_count": null,
      "metadata": {
        "colab": {
          "base_uri": "https://localhost:8080/"
        },
        "id": "9QYagt8NDorA",
        "outputId": "f3770cce-4fa5-496e-d66f-559a9f777431"
      },
      "outputs": [
        {
          "name": "stdout",
          "output_type": "stream",
          "text": [
            "n_gram sequences for first example look like this:\n",
            "\n"
          ]
        },
        {
          "data": {
            "text/plain": [
              "[[34, 417],\n",
              " [34, 417, 877],\n",
              " [34, 417, 877, 166],\n",
              " [34, 417, 877, 166, 213],\n",
              " [34, 417, 877, 166, 213, 517]]"
            ]
          },
          "execution_count": 9,
          "metadata": {},
          "output_type": "execute_result"
        }
      ],
      "source": [
        "# Test your function with one example\n",
        "first_example_sequence = n_gram_seqs([corpus[0]], tokenizer)\n",
        "\n",
        "print(\"n_gram sequences for first example look like this:\\n\")\n",
        "first_example_sequence"
      ]
    },
    {
      "cell_type": "code",
      "execution_count": null,
      "metadata": {
        "colab": {
          "base_uri": "https://localhost:8080/"
        },
        "id": "YSNGxgjXDzE9",
        "outputId": "2fd7d5e1-d059-45d3-e853-3c49c5ccae92"
      },
      "outputs": [
        {
          "name": "stdout",
          "output_type": "stream",
          "text": [
            "n_grams of input_sequences have length: 15462\n",
            "maximum length of sequences is: 11\n"
          ]
        }
      ],
      "source": [
        "# Apply the n_gram_seqs transformation to the whole corpus\n",
        "input_sequences = n_gram_seqs(corpus, tokenizer)\n",
        "\n",
        "# Save max length\n",
        "max_sequence_len = max([len(x) for x in input_sequences])\n",
        "\n",
        "print(f\"n_grams of input_sequences have length: {len(input_sequences)}\")\n",
        "print(f\"maximum length of sequences is: {max_sequence_len}\")"
      ]
    },
    {
      "cell_type": "markdown",
      "metadata": {
        "id": "bpDskLEJD3-m"
      },
      "source": [
        "# Add padding to the sequences"
      ]
    },
    {
      "cell_type": "code",
      "execution_count": null,
      "metadata": {
        "id": "2pgvUi1qD59M"
      },
      "outputs": [],
      "source": [
        "# GRADED FUNCTION: pad_seqs\n",
        "def pad_seqs(input_sequences, maxlen):\n",
        "    ### START CODE HERE\n",
        "    padded_sequences = pad_sequences(input_sequences, maxlen=maxlen, padding='pre')\n",
        "\n",
        "    return padded_sequences\n",
        "    ### END CODE HERE"
      ]
    },
    {
      "cell_type": "code",
      "execution_count": null,
      "metadata": {
        "colab": {
          "base_uri": "https://localhost:8080/"
        },
        "id": "tGnFTyD-EEIh",
        "outputId": "e9dd0730-92de-4d58-da9e-cca59e012669"
      },
      "outputs": [
        {
          "data": {
            "text/plain": [
              "array([[  0,   0,   0,  34, 417],\n",
              "       [  0,   0,  34, 417, 877],\n",
              "       [  0,  34, 417, 877, 166],\n",
              "       [ 34, 417, 877, 166, 213],\n",
              "       [417, 877, 166, 213, 517]], dtype=int32)"
            ]
          },
          "execution_count": 12,
          "metadata": {},
          "output_type": "execute_result"
        }
      ],
      "source": [
        "# Test your function with the n_grams_seq of the first example\n",
        "first_padded_seq = pad_seqs(first_example_sequence, len(first_example_sequence))\n",
        "first_padded_seq"
      ]
    },
    {
      "cell_type": "code",
      "execution_count": null,
      "metadata": {
        "colab": {
          "base_uri": "https://localhost:8080/"
        },
        "id": "Z1JSEbMjEL29",
        "outputId": "18467571-8733-47cb-c6a4-b0be8ddf3ab5"
      },
      "outputs": [
        {
          "name": "stdout",
          "output_type": "stream",
          "text": [
            "padded corpus has shape: (15462, 11)\n"
          ]
        }
      ],
      "source": [
        "# Pad the whole corpus\n",
        "input_sequences = pad_seqs(input_sequences, max_sequence_len)\n",
        "\n",
        "print(f\"padded corpus has shape: {input_sequences.shape}\")"
      ]
    },
    {
      "cell_type": "markdown",
      "metadata": {
        "id": "b5B6rXJFEXV-"
      },
      "source": [
        "# Split the data into features and labels\n",
        "\n",
        "Before feeding the data into the neural network you should split it into features and labels. In this case the features will be the padded n_gram sequences with the last word removed from them and the labels will be the removed word"
      ]
    },
    {
      "cell_type": "code",
      "execution_count": null,
      "metadata": {
        "id": "sUzmxf8rEbuE"
      },
      "outputs": [],
      "source": [
        "# GRADED FUNCTION: features_and_labels\n",
        "def features_and_labels(input_sequences, total_words):\n",
        "    ### START CODE HERE\n",
        "    features = input_sequences[:,:-1]\n",
        "    labels = input_sequences[:,-1]\n",
        "    one_hot_labels = to_categorical(labels, num_classes=total_words)\n",
        "    ### END CODE HERE\n",
        "\n",
        "    return features, one_hot_labels"
      ]
    },
    {
      "cell_type": "code",
      "execution_count": null,
      "metadata": {
        "colab": {
          "base_uri": "https://localhost:8080/"
        },
        "id": "8MvDp1MXEllo",
        "outputId": "eaa5d066-6395-4765-c7d6-efbc154a7912"
      },
      "outputs": [
        {
          "name": "stdout",
          "output_type": "stream",
          "text": [
            "labels have shape: (5, 3211)\n",
            "\n",
            "features look like this:\n",
            "\n"
          ]
        },
        {
          "data": {
            "text/plain": [
              "array([[  0,   0,   0,  34],\n",
              "       [  0,   0,  34, 417],\n",
              "       [  0,  34, 417, 877],\n",
              "       [ 34, 417, 877, 166],\n",
              "       [417, 877, 166, 213]], dtype=int32)"
            ]
          },
          "execution_count": 15,
          "metadata": {},
          "output_type": "execute_result"
        }
      ],
      "source": [
        "# Test your function with the padded n_grams_seq of the first example\n",
        "first_features, first_labels = features_and_labels(first_padded_seq, total_words)\n",
        "\n",
        "print(f\"labels have shape: {first_labels.shape}\")\n",
        "print(\"\\nfeatures look like this:\\n\")\n",
        "first_features"
      ]
    },
    {
      "cell_type": "code",
      "execution_count": null,
      "metadata": {
        "colab": {
          "base_uri": "https://localhost:8080/"
        },
        "id": "zxRFjoa1EskG",
        "outputId": "c6d968df-344f-4177-dd1e-fb1f1b1c7d48"
      },
      "outputs": [
        {
          "name": "stdout",
          "output_type": "stream",
          "text": [
            "features have shape: (15462, 10)\n",
            "labels have shape: (15462, 3211)\n"
          ]
        }
      ],
      "source": [
        "# Split the whole corpus\n",
        "features, labels = features_and_labels(input_sequences, total_words)\n",
        "\n",
        "print(f\"features have shape: {features.shape}\")\n",
        "print(f\"labels have shape: {labels.shape}\")"
      ]
    },
    {
      "cell_type": "markdown",
      "metadata": {
        "id": "1PMd7YyhE71u"
      },
      "source": [
        "# Create the model\n",
        "\n",
        "\n",
        "\n",
        "1.   An appropriate output_dim for the first layer (Embedding) is 100\n",
        "2.   A Bidirectional LSTM is helpful for this particular problem.\n",
        "3.   The last layer should have the same number of units as the total number of words in the corpus and a softmax activation function.\n",
        "4.   This problem can be solved with only two layers (excluding the Embedding)\n",
        "\n"
      ]
    },
    {
      "cell_type": "code",
      "execution_count": null,
      "metadata": {
        "id": "K7qFJt_QFkX5"
      },
      "outputs": [],
      "source": [
        "# GRADED FUNCTION: create_model\n",
        "def create_model(total_words, max_sequence_len):\n",
        "\n",
        "    model = Sequential()\n",
        "    ### START CODE HERE\n",
        "    model.add(Embedding(total_words, 100, input_length=max_sequence_len-1))\n",
        "    model.add(Bidirectional(LSTM(150)))\n",
        "    model.add(Dense(total_words, activation='softmax'))\n",
        "\n",
        "    # Compile the model\n",
        "    model.compile(loss='categorical_crossentropy',\n",
        "                  optimizer='adam',\n",
        "                  metrics=['accuracy'])\n",
        "\n",
        "    ### END CODE HERE\n",
        "\n",
        "    return model"
      ]
    },
    {
      "cell_type": "code",
      "execution_count": null,
      "metadata": {
        "colab": {
          "background_save": true,
          "base_uri": "https://localhost:8080/"
        },
        "id": "PwfyFGDGFyrr",
        "outputId": "7dd3c3f0-fdeb-4310-94c9-3c49ed29f98a"
      },
      "outputs": [
        {
          "name": "stdout",
          "output_type": "stream",
          "text": [
            "Epoch 1/50\n",
            "484/484 [==============================] - 40s 73ms/step - loss: 6.8836 - accuracy: 0.0224\n",
            "Epoch 2/50\n",
            "484/484 [==============================] - 38s 79ms/step - loss: 6.4130 - accuracy: 0.0329\n",
            "Epoch 3/50\n",
            "484/484 [==============================] - 33s 68ms/step - loss: 6.1679 - accuracy: 0.0424\n",
            "Epoch 4/50\n",
            "484/484 [==============================] - 34s 69ms/step - loss: 5.9103 - accuracy: 0.0529\n",
            "Epoch 5/50\n",
            "484/484 [==============================] - 33s 69ms/step - loss: 5.6095 - accuracy: 0.0636\n",
            "Epoch 6/50\n",
            "484/484 [==============================] - 31s 65ms/step - loss: 5.2632 - accuracy: 0.0752\n",
            "Epoch 7/50\n",
            "484/484 [==============================] - 33s 68ms/step - loss: 4.8931 - accuracy: 0.0929\n",
            "Epoch 8/50\n",
            "484/484 [==============================] - 31s 65ms/step - loss: 4.5009 - accuracy: 0.1215\n",
            "Epoch 9/50\n",
            "484/484 [==============================] - 33s 68ms/step - loss: 4.1103 - accuracy: 0.1669\n",
            "Epoch 10/50\n",
            "484/484 [==============================] - 34s 71ms/step - loss: 3.7270 - accuracy: 0.2316\n",
            "Epoch 11/50\n",
            "484/484 [==============================] - 31s 64ms/step - loss: 3.3605 - accuracy: 0.2936\n",
            "Epoch 12/50\n",
            "484/484 [==============================] - 33s 67ms/step - loss: 3.0317 - accuracy: 0.3613\n",
            "Epoch 13/50\n",
            "484/484 [==============================] - 31s 64ms/step - loss: 2.7349 - accuracy: 0.4192\n",
            "Epoch 14/50\n",
            "484/484 [==============================] - 32s 67ms/step - loss: 2.4745 - accuracy: 0.4750\n",
            "Epoch 15/50\n",
            "484/484 [==============================] - 32s 66ms/step - loss: 2.2418 - accuracy: 0.5211\n",
            "Epoch 16/50\n",
            "484/484 [==============================] - 32s 65ms/step - loss: 2.0335 - accuracy: 0.5684\n",
            "Epoch 17/50\n",
            "484/484 [==============================] - 33s 67ms/step - loss: 1.8538 - accuracy: 0.6088\n",
            "Epoch 18/50\n",
            "484/484 [==============================] - 31s 65ms/step - loss: 1.6845 - accuracy: 0.6522\n",
            "Epoch 19/50\n",
            "484/484 [==============================] - 33s 67ms/step - loss: 1.5318 - accuracy: 0.6797\n",
            "Epoch 20/50\n",
            "484/484 [==============================] - 35s 71ms/step - loss: 1.3949 - accuracy: 0.7095\n",
            "Epoch 21/50\n",
            "484/484 [==============================] - 36s 74ms/step - loss: 1.2843 - accuracy: 0.7347\n",
            "Epoch 22/50\n",
            "484/484 [==============================] - 34s 71ms/step - loss: 1.1790 - accuracy: 0.7559\n",
            "Epoch 23/50\n",
            "484/484 [==============================] - 34s 71ms/step - loss: 1.0929 - accuracy: 0.7770\n",
            "Epoch 24/50\n",
            "484/484 [==============================] - 34s 71ms/step - loss: 1.0123 - accuracy: 0.7912\n",
            "Epoch 25/50\n",
            "484/484 [==============================] - 32s 67ms/step - loss: 0.9390 - accuracy: 0.8058\n",
            "Epoch 26/50\n",
            "484/484 [==============================] - 33s 68ms/step - loss: 0.8874 - accuracy: 0.8134\n",
            "Epoch 27/50\n",
            "484/484 [==============================] - 32s 67ms/step - loss: 0.8321 - accuracy: 0.8236\n",
            "Epoch 28/50\n",
            "484/484 [==============================] - 31s 65ms/step - loss: 0.7961 - accuracy: 0.8277\n",
            "Epoch 29/50\n",
            "484/484 [==============================] - 32s 66ms/step - loss: 0.7686 - accuracy: 0.8322\n",
            "Epoch 30/50\n",
            "484/484 [==============================] - 32s 65ms/step - loss: 0.7347 - accuracy: 0.8356\n",
            "Epoch 31/50\n",
            "484/484 [==============================] - 33s 67ms/step - loss: 0.7071 - accuracy: 0.8398\n",
            "Epoch 32/50\n",
            "484/484 [==============================] - 33s 68ms/step - loss: 0.6863 - accuracy: 0.8428\n",
            "Epoch 33/50\n",
            "484/484 [==============================] - 33s 67ms/step - loss: 0.6734 - accuracy: 0.8414\n",
            "Epoch 34/50\n",
            "484/484 [==============================] - 33s 69ms/step - loss: 0.6567 - accuracy: 0.8431\n",
            "Epoch 35/50\n",
            "484/484 [==============================] - 32s 67ms/step - loss: 0.6431 - accuracy: 0.8448\n",
            "Epoch 36/50\n",
            "484/484 [==============================] - 34s 70ms/step - loss: 0.6308 - accuracy: 0.8462\n",
            "Epoch 37/50\n",
            "484/484 [==============================] - 34s 70ms/step - loss: 0.6184 - accuracy: 0.8478\n",
            "Epoch 38/50\n",
            "484/484 [==============================] - 34s 70ms/step - loss: 0.6173 - accuracy: 0.8465\n",
            "Epoch 39/50\n",
            "484/484 [==============================] - 32s 67ms/step - loss: 0.6135 - accuracy: 0.8459\n",
            "Epoch 40/50\n",
            "484/484 [==============================] - 33s 69ms/step - loss: 0.6013 - accuracy: 0.8490\n",
            "Epoch 41/50\n",
            "484/484 [==============================] - 34s 70ms/step - loss: 0.5919 - accuracy: 0.8487\n",
            "Epoch 42/50\n",
            "484/484 [==============================] - 32s 66ms/step - loss: 0.5902 - accuracy: 0.8468\n",
            "Epoch 43/50\n",
            "484/484 [==============================] - 35s 71ms/step - loss: 0.5827 - accuracy: 0.8491\n",
            "Epoch 44/50\n",
            "484/484 [==============================] - 34s 71ms/step - loss: 0.5800 - accuracy: 0.8486\n",
            "Epoch 45/50\n",
            "484/484 [==============================] - 32s 66ms/step - loss: 0.5744 - accuracy: 0.8497\n",
            "Epoch 46/50\n",
            "484/484 [==============================] - 33s 68ms/step - loss: 0.5716 - accuracy: 0.8495\n",
            "Epoch 47/50\n",
            "484/484 [==============================] - 33s 68ms/step - loss: 0.5772 - accuracy: 0.8483\n",
            "Epoch 48/50\n",
            "484/484 [==============================] - 32s 66ms/step - loss: 0.5714 - accuracy: 0.8484\n",
            "Epoch 49/50\n",
            "484/484 [==============================] - 34s 71ms/step - loss: 0.5658 - accuracy: 0.8495\n",
            "Epoch 50/50\n",
            "484/484 [==============================] - 34s 70ms/step - loss: 0.5582 - accuracy: 0.8500\n"
          ]
        }
      ],
      "source": [
        "# Get the untrained model\n",
        "model = create_model(total_words, max_sequence_len)\n",
        "\n",
        "# Train the model\n",
        "history = model.fit(features, labels, epochs=50, verbose=1)"
      ]
    },
    {
      "cell_type": "code",
      "execution_count": null,
      "metadata": {
        "colab": {
          "base_uri": "https://localhost:8080/",
          "height": 887
        },
        "id": "Xn8395x6GmWK",
        "outputId": "06a8c133-e864-4032-cccf-394616a05d05"
      },
      "outputs": [
        {
          "data": {
            "image/png": "[encoded data removed]",
            "text/plain": [
              "<Figure size 640x480 with 1 Axes>"
            ]
          },
          "metadata": {},
          "output_type": "display_data"
        },
        {
          "data": {
            "image/png": "[encoded data removed]",
            "text/plain": [
              "<Figure size 640x480 with 1 Axes>"
            ]
          },
          "metadata": {},
          "output_type": "display_data"
        }
      ],
      "source": [
        "acc = history.history['accuracy']\n",
        "loss = history.history['loss']\n",
        "\n",
        "epochs = range(len(acc))\n",
        "\n",
        "plt.plot(epochs, acc, 'b', label='Training accuracy')\n",
        "plt.title('Training accuracy')\n",
        "\n",
        "plt.figure()\n",
        "\n",
        "plt.plot(epochs, loss, 'b', label='Training Loss')\n",
        "plt.title('Training loss')\n",
        "plt.legend()\n",
        "\n",
        "plt.show()"
      ]
    },
    {
      "cell_type": "code",
      "execution_count": null,
      "metadata": {
        "colab": {
          "base_uri": "https://localhost:8080/"
        },
        "id": "ewoy5jPLH2nZ",
        "outputId": "ba8d983f-74b7-44ca-ae88-c13a7e5c34bd"
      },
      "outputs": [
        {
          "name": "stdout",
          "output_type": "stream",
          "text": [
            "Help me Obi Wan Kenobi, you're my only hope the account of hours to crave still date dote still\n"
          ]
        }
      ],
      "source": [
        "seed_text = \"Help me Obi Wan Kenobi, you're my only hope\"\n",
        "next_words = 10\n",
        "\n",
        "for _ in range(next_words):\n",
        "\t# Convert the text into sequences\n",
        "\ttoken_list = tokenizer.texts_to_sequences([seed_text])[0]\n",
        "\t# Pad the sequences\n",
        "\ttoken_list = pad_sequences([token_list], maxlen=max_sequence_len-1, padding='pre')\n",
        "\t# Get the probabilities of predicting a word\n",
        "\tpredicted = model.predict(token_list, verbose=0)\n",
        "\t# Choose the next word based on the maximum probability\n",
        "\tpredicted = np.argmax(predicted, axis=-1).item()\n",
        "\t# Get the actual word from the word index\n",
        "\toutput_word = tokenizer.index_word[predicted]\n",
        "\t# Append to the current text\n",
        "\tseed_text += \" \" + output_word\n",
        "\n",
        "print(seed_text)"
      ]
    }
  ],
  "metadata": {
    "accelerator": "GPU",
    "colab": {
      "provenance": [],
      "authorship_tag": "ABX9TyPcwl2W2+h3MtQ7Df+TFyc2"
    },
    "kernelspec": {
      "display_name": "Python 3",
      "name": "python3"
    },
    "language_info": {
      "name": "python"
    }
  },
  "nbformat": 4,
  "nbformat_minor": 0
}